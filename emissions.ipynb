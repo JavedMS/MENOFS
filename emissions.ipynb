{
 "cells": [
  {
   "cell_type": "code",
   "execution_count": 1,
   "id": "014e7d0f-a0ad-4ecd-bdee-bb28df0decb3",
   "metadata": {},
   "outputs": [],
   "source": [
    "import pandas as pd\n",
    "import matplotlib.pyplot as plt"
   ]
  },
  {
   "cell_type": "markdown",
   "id": "adbb30c8-98f6-42c1-93e0-914bde6216e1",
   "metadata": {},
   "source": [
    "**Units**\n",
    "* values in CO2_totals_by_country sheet are expressed in Mt CO2/yr \n",
    "* values in CO2_by_sector_and_country sheet are expressed in Mt CO2/yr\n",
    "* values in fossil_CO2_per_GDP_by_country sheet are expressed in t CO2/kUSD/yr\n",
    "* values in fossil_CO2_per_capita_by_countr sheet are expressed in t CO2/cap/yr"
   ]
  },
  {
   "cell_type": "code",
   "execution_count": 2,
   "id": "df078623-7369-4ca5-984e-ee95c4da25a8",
   "metadata": {},
   "outputs": [],
   "source": [
    "desired_regions = [\n",
    "    'AT',\n",
    "    'BE',\n",
    "    'BG',\n",
    "    'CH',\n",
    "    'CZ',\n",
    "    'DK',\n",
    "    'DE',\n",
    "    'EE',\n",
    "    'ES',\n",
    "    'FR',\n",
    "    'FI',\n",
    "    'GR',\n",
    "    'HR',\n",
    "    'HU',\n",
    "    'IE',\n",
    "    'IT',\n",
    "    'LT',\n",
    "    'LU',\n",
    "    'LV',\n",
    "    'NL',\n",
    "    'NO',\n",
    "    'PL',\n",
    "    'PT',\n",
    "    'RO',\n",
    "    'SI',\n",
    "    'SE',\n",
    "    'SK',\n",
    "    'UK',\n",
    "]"
   ]
  },
  {
   "cell_type": "code",
   "execution_count": 3,
   "id": "016806fe-4de0-490a-a35e-182922ffe6f2",
   "metadata": {},
   "outputs": [],
   "source": [
    "regions_to_EDGAR = {\n",
    "    'AT' : 'AUT',\n",
    "    'BE' : 'BEL',\n",
    "    'BG' : 'BGR',\n",
    "    'CH' : 'CHE',\n",
    "    'CZ' : 'CZE',\n",
    "    'DK' : 'DNK',\n",
    "    'DE' : 'DEU',\n",
    "    'EE' : 'EST',\n",
    "    'ES' : 'ESP',\n",
    "    'FR' : 'FRA',\n",
    "    'FI' : 'FIN',\n",
    "    'GR' : 'GRC',\n",
    "    'HR' : 'HRV',\n",
    "    'HU' : 'HUN',\n",
    "    'IE' : 'IRL',\n",
    "    'IT' : 'ITA',\n",
    "    'LT' : 'LTU',\n",
    "    'LU' : 'LUX',\n",
    "    'LV' : 'LVA',\n",
    "    'NL' : 'NLD',\n",
    "    'NO' : 'NOR',\n",
    "    'PL' : 'POL',\n",
    "    'PT' : 'PRT',\n",
    "    'RO' : 'ROU',\n",
    "    'SI' : 'SVN',\n",
    "    'SE' : 'SWE',\n",
    "    'SK' : 'SVK',\n",
    "    'UK' : 'GBR'\n",
    "}"
   ]
  },
  {
   "cell_type": "code",
   "execution_count": 4,
   "id": "5aa2a49d-3092-441d-b5a4-d4f97796996a",
   "metadata": {},
   "outputs": [],
   "source": [
    "EDGAR_to_regions = {v: k for k, v in regions_to_EDGAR.items()}"
   ]
  },
  {
   "cell_type": "code",
   "execution_count": 6,
   "id": "72f09b9c-2e21-44ad-af1a-25023e43a80a",
   "metadata": {},
   "outputs": [],
   "source": [
    "emissions = pd.read_csv(\n",
    "    'data/annual-co2-emissions-per-country.csv',\n",
    "    sep=','\n",
    ").set_index(\n",
    "    ['Entity','Code','Year']\n",
    ").rename(\n",
    "    EDGAR_to_regions\n",
    ").loc[\n",
    "    (slice(None),desired_regions,slice(None))\n",
    "]"
   ]
  },
  {
   "cell_type": "code",
   "execution_count": 7,
   "id": "6724dbbc-b85a-44a4-bcb2-106ef29ba8a3",
   "metadata": {
    "tags": []
   },
   "outputs": [],
   "source": [
    "years = list(range(1901,2022))"
   ]
  },
  {
   "cell_type": "code",
   "execution_count": 8,
   "id": "7e36467e-15a8-441e-9b69-b1bb9ad849cd",
   "metadata": {
    "tags": []
   },
   "outputs": [
    {
     "data": {
      "text/plain": [
       "121"
      ]
     },
     "execution_count": 8,
     "metadata": {},
     "output_type": "execute_result"
    }
   ],
   "source": [
    "len(years)"
   ]
  },
  {
   "cell_type": "code",
   "execution_count": 9,
   "id": "c24f228d-8a55-496a-ae63-ec5fabfbe4ad",
   "metadata": {
    "tags": []
   },
   "outputs": [
    {
     "name": "stdout",
     "output_type": "stream",
     "text": [
      "GR: Only 120 years of data\n",
      "HR: Only 114 years of data\n",
      "IE: Only 108 years of data\n",
      "LU: Only 77 years of data\n",
      "SI: Only 114 years of data\n"
     ]
    }
   ],
   "source": [
    "missing_data = []\n",
    "for country in desired_regions:\n",
    "    data_points = emissions.reset_index().query(\"Year > 1900\").query(\"Code == @country\").Year.count()\n",
    "    if data_points != len(years):\n",
    "        print(country + ': ' 'Only ' + str(data_points) + ' years of data')\n",
    "        missing_data.append(country)"
   ]
  },
  {
   "cell_type": "code",
   "execution_count": 10,
   "id": "04a4f144-89b7-4c3a-bab4-00f7c20ec601",
   "metadata": {
    "tags": []
   },
   "outputs": [
    {
     "data": {
      "text/plain": [
       "['GR', 'HR', 'IE', 'LU', 'SI']"
      ]
     },
     "execution_count": 10,
     "metadata": {},
     "output_type": "execute_result"
    }
   ],
   "source": [
    "missing_data"
   ]
  },
  {
   "cell_type": "code",
   "execution_count": 11,
   "id": "7e3db7a4-9bfc-42e5-8337-c03af7b2ceec",
   "metadata": {
    "tags": []
   },
   "outputs": [
    {
     "data": {
      "text/plain": [
       "array([1901, 1902, 1903, 1904, 1905, 1906, 1907, 1908, 1909, 1910, 1911,\n",
       "       1913, 1914, 1915, 1916, 1917, 1918, 1919, 1920, 1921, 1922, 1923,\n",
       "       1924, 1925, 1926, 1927, 1928, 1929, 1930, 1931, 1932, 1933, 1934,\n",
       "       1935, 1936, 1937, 1938, 1939, 1940, 1941, 1942, 1943, 1944, 1945,\n",
       "       1946, 1947, 1948, 1949, 1950, 1951, 1952, 1953, 1954, 1955, 1956,\n",
       "       1957, 1958, 1959, 1960, 1961, 1962, 1963, 1964, 1965, 1966, 1967,\n",
       "       1968, 1969, 1970, 1971, 1972, 1973, 1974, 1975, 1976, 1977, 1978,\n",
       "       1979, 1980, 1981, 1982, 1983, 1984, 1985, 1986, 1987, 1988, 1989,\n",
       "       1990, 1991, 1992, 1993, 1994, 1995, 1996, 1997, 1998, 1999, 2000,\n",
       "       2001, 2002, 2003, 2004, 2005, 2006, 2007, 2008, 2009, 2010, 2011,\n",
       "       2012, 2013, 2014, 2015, 2016, 2017, 2018, 2019, 2020, 2021])"
      ]
     },
     "execution_count": 11,
     "metadata": {},
     "output_type": "execute_result"
    }
   ],
   "source": [
    "emissions.query(\"Code == 'GR' & Year > 1900\").reset_index().Year.unique()"
   ]
  },
  {
   "cell_type": "code",
   "execution_count": 12,
   "id": "1e90b7e0-e3db-4b8d-970d-707fdf4d0dc0",
   "metadata": {
    "tags": []
   },
   "outputs": [],
   "source": [
    "emission_1900 = emissions.query(\"Year > 1900\")"
   ]
  },
  {
   "cell_type": "code",
   "execution_count": 13,
   "id": "2bfb34e2-6c99-4f8d-a8b4-2a80ab9398d3",
   "metadata": {
    "tags": []
   },
   "outputs": [
    {
     "name": "stderr",
     "output_type": "stream",
     "text": [
      "/tmp/ipykernel_603701/3050030641.py:12: FutureWarning: The default value of numeric_only in DataFrameGroupBy.sum is deprecated. In a future version, numeric_only will default to False. Either specify numeric_only or select only columns which should be valid for the function.\n",
      "  .groupby('Code').sum()\n"
     ]
    }
   ],
   "source": [
    "(\n",
    "    emission_1900\n",
    "    .unstack()\n",
    "    .T\n",
    "    .droplevel(axis=1, level=0)\n",
    "    .interpolate()\n",
    "    .fillna(method='bfill')\n",
    "    .T\n",
    "    .unstack()\n",
    "    .to_frame()\n",
    "    .reset_index()\n",
    "    .groupby('Code').sum()\n",
    "    .drop(columns={'Year'})\n",
    "    .reset_index()\n",
    "    .sort_values(by = 0)\n",
    "    .to_csv('data/emissions_1900_2021.tsv',sep='\\t')\n",
    ")"
   ]
  },
  {
   "cell_type": "code",
   "execution_count": null,
   "id": "c7e26714-700a-45dc-8516-d1d8129811c0",
   "metadata": {},
   "outputs": [],
   "source": []
  }
 ],
 "metadata": {
  "kernelspec": {
   "display_name": "Python 3 (ipykernel)",
   "language": "python",
   "name": "python3"
  },
  "language_info": {
   "codemirror_mode": {
    "name": "ipython",
    "version": 3
   },
   "file_extension": ".py",
   "mimetype": "text/x-python",
   "name": "python",
   "nbconvert_exporter": "python",
   "pygments_lexer": "ipython3",
   "version": "3.10.9"
  }
 },
 "nbformat": 4,
 "nbformat_minor": 5
}
